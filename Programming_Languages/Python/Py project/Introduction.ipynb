{
 "cells": [
  {
   "cell_type": "code",
   "execution_count": null,
   "id": "5d887992",
   "metadata": {},
   "outputs": [],
   "source": [
    "import sys\n",
    "sys.executable"
   ]
  },
  {
   "cell_type": "code",
   "execution_count": null,
   "id": "20611949",
   "metadata": {},
   "outputs": [],
   "source": [
    "type(None)"
   ]
  },
  {
   "cell_type": "code",
   "execution_count": null,
   "id": "c50a7080",
   "metadata": {},
   "outputs": [],
   "source": [
    "a=None\n",
    "type(a)"
   ]
  },
  {
   "cell_type": "code",
   "execution_count": null,
   "id": "231c32fb",
   "metadata": {},
   "outputs": [],
   "source": [
    "import os\n",
    "\n",
    "print(os.getcwd())\n",
    "os.chdir('c:/users/mahes/')\n",
    "print(os.getcwd())\n"
   ]
  },
  {
   "cell_type": "code",
   "execution_count": null,
   "id": "7d2489aa",
   "metadata": {
    "scrolled": false
   },
   "outputs": [],
   "source": [
    "import glob\n",
    "glob.glob('*')"
   ]
  },
  {
   "cell_type": "code",
   "execution_count": null,
   "id": "5db16c07",
   "metadata": {},
   "outputs": [],
   "source": [
    "os.path.expanduser('~')"
   ]
  },
  {
   "cell_type": "code",
   "execution_count": null,
   "id": "bc38c093",
   "metadata": {},
   "outputs": [],
   "source": [
    "metadata=os.stat('Desktop')\n",
    "print(metadata.st_mtime)"
   ]
  },
  {
   "cell_type": "code",
   "execution_count": null,
   "id": "75db9e94",
   "metadata": {},
   "outputs": [],
   "source": [
    "import time\n",
    "print(*time.localtime(metadata.st_mtime), sep=' ')"
   ]
  },
  {
   "cell_type": "code",
   "execution_count": null,
   "id": "101e5984",
   "metadata": {},
   "outputs": [],
   "source": [
    "print(os.path.realpath('Desktop'))"
   ]
  },
  {
   "cell_type": "code",
   "execution_count": null,
   "id": "5721133b",
   "metadata": {},
   "outputs": [],
   "source": [
    "a=[i**2 for i in range(10)]\n",
    "a"
   ]
  },
  {
   "cell_type": "code",
   "execution_count": null,
   "id": "bda83490",
   "metadata": {},
   "outputs": [],
   "source": [
    "a=[print(*time.localtime((os.stat(x)).st_mtime)) for x in glob.glob('*')]\n"
   ]
  },
  {
   "cell_type": "code",
   "execution_count": null,
   "id": "d391de19",
   "metadata": {},
   "outputs": [],
   "source": [
    "a=[print(*time.localtime((os.stat(x)).st_mtime)) for x in glob.glob('*') if os.stat(x).st_size>1000]\n"
   ]
  },
  {
   "cell_type": "code",
   "execution_count": null,
   "id": "65689d03",
   "metadata": {},
   "outputs": [],
   "source": [
    "a={x:time.localtime((os.stat(x)).st_mtime)  for x in glob.glob('*') if os.stat(x).st_size>1000}\n",
    "a.keys()"
   ]
  },
  {
   "cell_type": "code",
   "execution_count": null,
   "id": "e0c6e5c2",
   "metadata": {},
   "outputs": [],
   "source": [
    "lst=range(90,100)\n",
    "b=['Percentage: {0:0.1f}'.format(b) for b in lst]\n",
    "print(b)"
   ]
  },
  {
   "cell_type": "code",
   "execution_count": null,
   "id": "1cd7fbac",
   "metadata": {},
   "outputs": [],
   "source": [
    "x=b'abc'\n",
    "y='abcdeabc'\n",
    "x.decode('ascii') in y\n",
    "y.count(x.decode('ascii'))\n"
   ]
  },
  {
   "cell_type": "code",
   "execution_count": null,
   "id": "eb02ff8d",
   "metadata": {},
   "outputs": [],
   "source": [
    "import re\n",
    "s='Colonel Raja Pratap Sawhney'\n",
    "r='Indra Colonel Colony'\n",
    "s=re.sub('Colonel','Cl.',s)\n",
    "r=re.sub(r'^Colonel','Cl.',r)\n",
    "print(s,',',r)"
   ]
  },
  {
   "cell_type": "code",
   "execution_count": null,
   "id": "b8a80822",
   "metadata": {},
   "outputs": [],
   "source": [
    "pattern = '^M{0,3}(CM|CD|D?C{0,3})(XC|XL|L?X{0,3})(IX|IV|V?I{0,3})$'\n",
    "print(re.search(pattern, 'MDLV'))\n",
    "re.search(pattern, 'MMMDCCCLXXXVIII')"
   ]
  },
  {
   "cell_type": "code",
   "execution_count": null,
   "id": "8e890f3b",
   "metadata": {},
   "outputs": [],
   "source": [
    "phonePattern = re.compile(r'''\n",
    "            # number can start anywhere\n",
    "(\\d{3})     # area code = 3 digits\n",
    "\\D*         # separator is any number of non digits\n",
    "(\\d{3})     # trunk = 3 digits\n",
    "\\D*         # optional separator\n",
    "(\\d{4})     # rest of number = 4 digits\n",
    "\\D*         # optional separator\n",
    "(\\d*)       # extension is optional\n",
    "''', re.VERBOSE)\n",
    "phonePattern.search('work 1-(800) 555.1212 #1234').groups()\n"
   ]
  },
  {
   "cell_type": "code",
   "execution_count": null,
   "id": "d6787edf",
   "metadata": {},
   "outputs": [],
   "source": [
    "phonePattern.search('800-555-1212').groups()"
   ]
  },
  {
   "cell_type": "code",
   "execution_count": null,
   "id": "07341036",
   "metadata": {},
   "outputs": [],
   "source": [
    "phonePattern.search('1-800-555-1212').groups()"
   ]
  },
  {
   "cell_type": "code",
   "execution_count": null,
   "id": "327f4d7e",
   "metadata": {},
   "outputs": [],
   "source": [
    "phonePattern.search('800-555-1212x1234').groups()"
   ]
  },
  {
   "cell_type": "code",
   "execution_count": null,
   "id": "7ae6a2f9",
   "metadata": {},
   "outputs": [],
   "source": [
    "import locale\n",
    "\n",
    "locale.getpreferredencoding()"
   ]
  },
  {
   "cell_type": "code",
   "execution_count": null,
   "id": "01b55186",
   "metadata": {},
   "outputs": [],
   "source": [
    "handle=open('Hi.txt')\n",
    "handle.read()\n",
    "handle.name\n",
    "handle.encoding\n",
    "handle.mode\n",
    "handle.close()"
   ]
  },
  {
   "cell_type": "code",
   "execution_count": null,
   "id": "192d9084",
   "metadata": {},
   "outputs": [],
   "source": [
    "handle1=open('Hi.txt',encoding='ascii')\n",
    "handle1.read(1)\n",
    "handle.seek(4)\n",
    "handle.read(1)\n",
    "handle1.close()"
   ]
  },
  {
   "cell_type": "code",
   "execution_count": null,
   "id": "39a4d435",
   "metadata": {},
   "outputs": [],
   "source": [
    "\n",
    "ptr=open('yo.txt',encoding='utf-8')\n",
    "ptr.read()\n",
    "ptr.seek(9)\n",
    "print(ptr.read(16))\n",
    "ptr.tell()\n",
    "ptr.close()"
   ]
  },
  {
   "cell_type": "code",
   "execution_count": null,
   "id": "deb3e779",
   "metadata": {},
   "outputs": [],
   "source": [
    "with open('yo.txt',encoding='utf-8') as ptr:    \n",
    "    \n",
    "    ptr.read()\n",
    "    ptr.seek(9)\n",
    "    print(ptr.read(16))\n",
    "    ptr.tell()\n",
    "    print(ptr.closed)\n",
    "ptr.closed\n"
   ]
  },
  {
   "cell_type": "code",
   "execution_count": null,
   "id": "d303f7ab",
   "metadata": {},
   "outputs": [],
   "source": [
    "with open('yo.txt','w', encoding='utf-8') as ptr:\n",
    "    ptr.write(\"Test passed\")\n",
    "with open('yo.txt',encoding='utf-8') as ptr:\n",
    "    print(ptr.read())\n",
    "with open('yo.txt','a', encoding='utf-8') as ptr:\n",
    "    ptr.write(\" and Again.\")\n",
    "with open('yo.txt',encoding='utf-8') as ptr:\n",
    "    print(ptr.read())\n"
   ]
  },
  {
   "cell_type": "code",
   "execution_count": null,
   "id": "cfb4c692",
   "metadata": {},
   "outputs": [],
   "source": [
    "with open('viva.png','rb') as ptr:\n",
    "    print(len(ptr.read()))"
   ]
  },
  {
   "cell_type": "code",
   "execution_count": null,
   "id": "b32f4404",
   "metadata": {},
   "outputs": [],
   "source": [
    "import io\n",
    "string='Hello there'\n",
    "with io.StringIO(string) as ptr:\n",
    "    print(ptr.read())"
   ]
  },
  {
   "cell_type": "code",
   "execution_count": null,
   "id": "73b6675d",
   "metadata": {},
   "outputs": [],
   "source": [
    "import gzip\n",
    "with gzip.open('hello.log.gz',mode='wb') as z:\n",
    "    z.write('I am Sagar Maheshwari'.encode('utf=8'))\n",
    "    "
   ]
  },
  {
   "cell_type": "code",
   "execution_count": null,
   "id": "dc364875",
   "metadata": {},
   "outputs": [],
   "source": [
    "class RedirectStdoutTo:\n",
    "    def __init__(self, out_new): \n",
    "        self.out_new = out_new\n",
    "    def __enter__(self): \n",
    "        self.out_old = sys.stdout\n",
    "        sys.stdout = self.out_new\n",
    "    def __exit__(self, *args): \n",
    "        sys.stdout = self.out_old\n",
    "        "
   ]
  },
  {
   "cell_type": "code",
   "execution_count": null,
   "id": "b2b9671a",
   "metadata": {},
   "outputs": [],
   "source": [
    "print('Before Redirecting')\n",
    "with open('out.log', mode='w', encoding='utf-8') as a_file, RedirectStdoutTo(a_file):\n",
    "    print('Redirected Text : Hello Brother')\n",
    "print('After Redirecting') "
   ]
  },
  {
   "cell_type": "code",
   "execution_count": null,
   "id": "28a7507a",
   "metadata": {},
   "outputs": [],
   "source": [
    "import re\n",
    "\n",
    "x=['say','may','say','hey','amy']\n",
    "for i in x:\n",
    "    print(re.sub('([^aeiou])y$',r'\\1ies',i))"
   ]
  }
 ],
 "metadata": {
  "kernelspec": {
   "display_name": "Python 3 (ipykernel)",
   "language": "python",
   "name": "python3"
  },
  "language_info": {
   "codemirror_mode": {
    "name": "ipython",
    "version": 3
   },
   "file_extension": ".py",
   "mimetype": "text/x-python",
   "name": "python",
   "nbconvert_exporter": "python",
   "pygments_lexer": "ipython3",
   "version": "3.9.7"
  }
 },
 "nbformat": 4,
 "nbformat_minor": 5
}
